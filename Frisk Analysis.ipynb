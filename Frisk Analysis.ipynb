{
 "cells": [
  {
   "cell_type": "markdown",
   "metadata": {},
   "source": [
    "# Frisk Analysis\n",
    "We will examine the frisk.csv dataset which has recordings of NYPD stop-and-frisk from 1998-1999.\n",
    "\n",
    "Variables in the dataset:\n",
    "+ precint: [NYC precint](https://data.cityofnewyork.us/Public-Safety/Police-Precincts/78dh-3ptz) indicator, with values 1, 2, . . . , 75. \n",
    "+ eth: Ethnicity indicator, with 1 denoting Black, 2 denoting Hispanic, and 3 denoting White.\n",
    "+ popl: The total population of a particular ethnicity in a given precint. \n",
    "+ crime: Crime category indicator, with 1 denoting violent crimes, 2 denoting weapons crimes, 3 denoting property crimes, and 4 denoting drug crimes.\n",
    "+ stops: Number of police stops for a specific crime category among individuals of a particular ethnicity in a given precint. \n",
    "+ past: The total number of past arrests for a specific crime category among individuals of a particular ethnicity in a given precint."
   ]
  },
  {
   "cell_type": "code",
   "execution_count": 1,
   "metadata": {},
   "outputs": [],
   "source": [
    "%matplotlib inline\n",
    "import numpy as np\n",
    "import pandas as pd\n",
    "import statsmodels.formula.api as smf"
   ]
  },
  {
   "cell_type": "code",
   "execution_count": 3,
   "metadata": {},
   "outputs": [],
   "source": [
    "eth_map = ['misc','black','hispanic','white']"
   ]
  },
  {
   "cell_type": "code",
   "execution_count": 5,
   "metadata": {},
   "outputs": [
    {
     "data": {
      "text/html": [
       "<div>\n",
       "<style scoped>\n",
       "    .dataframe tbody tr th:only-of-type {\n",
       "        vertical-align: middle;\n",
       "    }\n",
       "\n",
       "    .dataframe tbody tr th {\n",
       "        vertical-align: top;\n",
       "    }\n",
       "\n",
       "    .dataframe thead th {\n",
       "        text-align: right;\n",
       "    }\n",
       "</style>\n",
       "<table border=\"1\" class=\"dataframe\">\n",
       "  <thead>\n",
       "    <tr style=\"text-align: right;\">\n",
       "      <th></th>\n",
       "      <th>precinct</th>\n",
       "      <th>eth</th>\n",
       "      <th>popl</th>\n",
       "      <th>stops</th>\n",
       "      <th>past</th>\n",
       "    </tr>\n",
       "  </thead>\n",
       "  <tbody>\n",
       "    <tr>\n",
       "      <th>0</th>\n",
       "      <td>1</td>\n",
       "      <td>1</td>\n",
       "      <td>1720</td>\n",
       "      <td>202</td>\n",
       "      <td>980</td>\n",
       "    </tr>\n",
       "    <tr>\n",
       "      <th>1</th>\n",
       "      <td>1</td>\n",
       "      <td>2</td>\n",
       "      <td>1368</td>\n",
       "      <td>102</td>\n",
       "      <td>295</td>\n",
       "    </tr>\n",
       "    <tr>\n",
       "      <th>2</th>\n",
       "      <td>1</td>\n",
       "      <td>3</td>\n",
       "      <td>23854</td>\n",
       "      <td>81</td>\n",
       "      <td>381</td>\n",
       "    </tr>\n",
       "    <tr>\n",
       "      <th>3</th>\n",
       "      <td>2</td>\n",
       "      <td>1</td>\n",
       "      <td>2596</td>\n",
       "      <td>132</td>\n",
       "      <td>753</td>\n",
       "    </tr>\n",
       "    <tr>\n",
       "      <th>4</th>\n",
       "      <td>2</td>\n",
       "      <td>2</td>\n",
       "      <td>6844</td>\n",
       "      <td>144</td>\n",
       "      <td>557</td>\n",
       "    </tr>\n",
       "    <tr>\n",
       "      <th>5</th>\n",
       "      <td>2</td>\n",
       "      <td>3</td>\n",
       "      <td>9379</td>\n",
       "      <td>71</td>\n",
       "      <td>431</td>\n",
       "    </tr>\n",
       "    <tr>\n",
       "      <th>6</th>\n",
       "      <td>3</td>\n",
       "      <td>1</td>\n",
       "      <td>2092</td>\n",
       "      <td>752</td>\n",
       "      <td>2188</td>\n",
       "    </tr>\n",
       "    <tr>\n",
       "      <th>7</th>\n",
       "      <td>3</td>\n",
       "      <td>2</td>\n",
       "      <td>3633</td>\n",
       "      <td>441</td>\n",
       "      <td>627</td>\n",
       "    </tr>\n",
       "    <tr>\n",
       "      <th>8</th>\n",
       "      <td>3</td>\n",
       "      <td>3</td>\n",
       "      <td>56304</td>\n",
       "      <td>410</td>\n",
       "      <td>1238</td>\n",
       "    </tr>\n",
       "    <tr>\n",
       "      <th>9</th>\n",
       "      <td>4</td>\n",
       "      <td>1</td>\n",
       "      <td>5699</td>\n",
       "      <td>385</td>\n",
       "      <td>471</td>\n",
       "    </tr>\n",
       "  </tbody>\n",
       "</table>\n",
       "</div>"
      ],
      "text/plain": [
       "   precinct  eth   popl  stops  past\n",
       "0         1    1   1720    202   980\n",
       "1         1    2   1368    102   295\n",
       "2         1    3  23854     81   381\n",
       "3         2    1   2596    132   753\n",
       "4         2    2   6844    144   557\n",
       "5         2    3   9379     71   431\n",
       "6         3    1   2092    752  2188\n",
       "7         3    2   3633    441   627\n",
       "8         3    3  56304    410  1238\n",
       "9         4    1   5699    385   471"
      ]
     },
     "execution_count": 5,
     "metadata": {},
     "output_type": "execute_result"
    }
   ],
   "source": [
    "df = pd.read_csv('frisk.csv')\n",
    "frisk = df.drop('crime', 1).groupby(['precinct', 'eth', 'popl'])[['stops', 'past']].sum().reset_index()\n",
    "frisk.head(10)"
   ]
  },
  {
   "cell_type": "code",
   "execution_count": 7,
   "metadata": {},
   "outputs": [
    {
     "data": {
      "text/plain": [
       "0.013380758804351547"
      ]
     },
     "execution_count": 7,
     "metadata": {},
     "output_type": "execute_result"
    }
   ],
   "source": [
    "mod = smf.ols(formula=\"stops~popl-1\", data=frisk)\n",
    "slope = mod.fit().params[0]\n",
    "slope"
   ]
  },
  {
   "cell_type": "code",
   "execution_count": 8,
   "metadata": {},
   "outputs": [
    {
     "data": {
      "text/plain": [
       "[<matplotlib.lines.Line2D at 0x7fca10f41070>]"
      ]
     },
     "execution_count": 8,
     "metadata": {},
     "output_type": "execute_result"
    },
    {
     "data": {
      "image/png": "[encoded data removed]",
      "text/plain": [
       "<Figure size 432x288 with 1 Axes>"
      ]
     },
     "metadata": {
      "needs_background": "light"
     },
     "output_type": "display_data"
    }
   ],
   "source": [
    "s_plot1 = frisk.plot(x='popl', y='stops', kind='scatter', s=5)\n",
    "xmin, xmax = frisk.popl.min(), frisk.popl.max()\n",
    "x = np.arange(xmin, xmax)\n",
    "s_plot1.plot(x, x*slope, color='red', alpha=0.5, linewidth=5)"
   ]
  },
  {
   "cell_type": "code",
   "execution_count": 9,
   "metadata": {},
   "outputs": [
    {
     "name": "stdout",
     "output_type": "stream",
     "text": [
      "339.5071828319832 0.008124416863261274\n"
     ]
    }
   ],
   "source": [
    "mod = smf.ols(formula=\"stops~popl\", data=frisk)\n",
    "intercept = mod.fit().params[0]\n",
    "slope = mod.fit().params[1]\n",
    "print(intercept, slope)"
   ]
  },
  {
   "cell_type": "code",
   "execution_count": 10,
   "metadata": {},
   "outputs": [
    {
     "data": {
      "text/plain": [
       "[<matplotlib.lines.Line2D at 0x7fca1288d100>]"
      ]
     },
     "execution_count": 10,
     "metadata": {},
     "output_type": "execute_result"
    },
    {
     "data": {
      "image/png": "[encoded data removed]",
      "text/plain": [
       "<Figure size 432x288 with 1 Axes>"
      ]
     },
     "metadata": {
      "needs_background": "light"
     },
     "output_type": "display_data"
    }
   ],
   "source": [
    "s_plot2 = frisk.plot(x='popl', y='stops', kind='scatter', s=5)\n",
    "xmin, xmax = frisk.popl.min(), frisk.popl.max()\n",
    "x = np.arange(xmin, xmax)\n",
    "s_plot2.plot(x, x*slope + intercept, color='red', alpha=0.5, linewidth=5)"
   ]
  },
  {
   "cell_type": "code",
   "execution_count": 11,
   "metadata": {},
   "outputs": [
    {
     "name": "stdout",
     "output_type": "stream",
     "text": [
      "159.19671005071206 0.40416481103999663\n"
     ]
    }
   ],
   "source": [
    "mod = smf.ols(formula=\"stops~past\", data=frisk)\n",
    "intercept = mod.fit().params[0]\n",
    "slope = mod.fit().params[1]\n",
    "print(intercept, slope)"
   ]
  },
  {
   "cell_type": "code",
   "execution_count": 12,
   "metadata": {},
   "outputs": [
    {
     "data": {
      "text/plain": [
       "[<matplotlib.lines.Line2D at 0x7fca1280f640>]"
      ]
     },
     "execution_count": 12,
     "metadata": {},
     "output_type": "execute_result"
    },
    {
     "data": {
      "image/png": "[encoded data removed]",
      "text/plain": [
       "<Figure size 432x288 with 1 Axes>"
      ]
     },
     "metadata": {
      "needs_background": "light"
     },
     "output_type": "display_data"
    }
   ],
   "source": [
    "s_plot3 = frisk.plot(x='past', y='stops', kind='scatter', s=5)\n",
    "xmin, xmax = frisk.past.min(), frisk.past.max()\n",
    "x = np.arange(xmin, xmax)\n",
    "s_plot3.plot(x, x * slope + intercept, color='red', alpha=0.5, linewidth=5)"
   ]
  },
  {
   "cell_type": "code",
   "execution_count": 13,
   "metadata": {},
   "outputs": [
    {
     "name": "stdout",
     "output_type": "stream",
     "text": [
      "104.50123130776086 0.0029405879731054015 0.3719855811910127\n"
     ]
    }
   ],
   "source": [
    "mod = smf.ols(formula=\"stops~popl+past\", data=frisk)\n",
    "intercept = mod.fit().params[0]\n",
    "slope_popl = mod.fit().params[1]\n",
    "slope_past = mod.fit().params[2]\n",
    "print(intercept, slope_popl, slope_past)"
   ]
  },
  {
   "cell_type": "code",
   "execution_count": 14,
   "metadata": {},
   "outputs": [
    {
     "data": {
      "image/png": "[encoded data removed]",
      "text/plain": [
       "<Figure size 432x288 with 2 Axes>"
      ]
     },
     "metadata": {
      "needs_background": "light"
     },
     "output_type": "display_data"
    },
    {
     "data": {
      "image/png": "[encoded data removed]",
      "text/plain": [
       "<Figure size 432x288 with 2 Axes>"
      ]
     },
     "metadata": {
      "needs_background": "light"
     },
     "output_type": "display_data"
    }
   ],
   "source": [
    "s_plot4 = frisk.plot(x='popl', y='stops', kind='scatter', s=5, c='eth', colormap='gist_rainbow')\n",
    "s_plot5 = frisk.plot(x='past', y='stops', kind='scatter', s=5, c='eth', colormap='gist_rainbow')"
   ]
  },
  {
   "cell_type": "code",
   "execution_count": 16,
   "metadata": {},
   "outputs": [
    {
     "data": {
      "text/html": [
       "<div>\n",
       "<style scoped>\n",
       "    .dataframe tbody tr th:only-of-type {\n",
       "        vertical-align: middle;\n",
       "    }\n",
       "\n",
       "    .dataframe tbody tr th {\n",
       "        vertical-align: top;\n",
       "    }\n",
       "\n",
       "    .dataframe thead th {\n",
       "        text-align: right;\n",
       "    }\n",
       "</style>\n",
       "<table border=\"1\" class=\"dataframe\">\n",
       "  <thead>\n",
       "    <tr style=\"text-align: right;\">\n",
       "      <th></th>\n",
       "      <th>stops</th>\n",
       "      <th>popl</th>\n",
       "      <th>past</th>\n",
       "    </tr>\n",
       "    <tr>\n",
       "      <th>eth</th>\n",
       "      <th></th>\n",
       "      <th></th>\n",
       "      <th></th>\n",
       "    </tr>\n",
       "  </thead>\n",
       "  <tbody>\n",
       "    <tr>\n",
       "      <th>black</th>\n",
       "      <td>69823</td>\n",
       "      <td>1865895</td>\n",
       "      <td>125719</td>\n",
       "    </tr>\n",
       "    <tr>\n",
       "      <th>hispanic</th>\n",
       "      <td>44623</td>\n",
       "      <td>1732269</td>\n",
       "      <td>74898</td>\n",
       "    </tr>\n",
       "    <tr>\n",
       "      <th>white</th>\n",
       "      <td>16974</td>\n",
       "      <td>3175354</td>\n",
       "      <td>35922</td>\n",
       "    </tr>\n",
       "  </tbody>\n",
       "</table>\n",
       "</div>"
      ],
      "text/plain": [
       "          stops     popl    past\n",
       "eth                             \n",
       "black     69823  1865895  125719\n",
       "hispanic  44623  1732269   74898\n",
       "white     16974  3175354   35922"
      ]
     },
     "execution_count": 16,
     "metadata": {},
     "output_type": "execute_result"
    }
   ],
   "source": [
    "eth_count = (frisk.groupby(['eth'])[['stops', 'popl', 'past']]\n",
    "             .sum().rename(index={1: 'black', 2: 'hispanic', 3: 'white'}))\n",
    "eth_count"
   ]
  },
  {
   "cell_type": "code",
   "execution_count": 18,
   "metadata": {},
   "outputs": [
    {
     "data": {
      "text/html": [
       "<div>\n",
       "<style scoped>\n",
       "    .dataframe tbody tr th:only-of-type {\n",
       "        vertical-align: middle;\n",
       "    }\n",
       "\n",
       "    .dataframe tbody tr th {\n",
       "        vertical-align: top;\n",
       "    }\n",
       "\n",
       "    .dataframe thead th {\n",
       "        text-align: right;\n",
       "    }\n",
       "</style>\n",
       "<table border=\"1\" class=\"dataframe\">\n",
       "  <thead>\n",
       "    <tr style=\"text-align: right;\">\n",
       "      <th></th>\n",
       "      <th>stops</th>\n",
       "      <th>popl</th>\n",
       "      <th>past</th>\n",
       "    </tr>\n",
       "    <tr>\n",
       "      <th>eth</th>\n",
       "      <th></th>\n",
       "      <th></th>\n",
       "      <th></th>\n",
       "    </tr>\n",
       "  </thead>\n",
       "  <tbody>\n",
       "    <tr>\n",
       "      <th>black</th>\n",
       "      <td>0.531297</td>\n",
       "      <td>0.275469</td>\n",
       "      <td>0.531494</td>\n",
       "    </tr>\n",
       "    <tr>\n",
       "      <th>hispanic</th>\n",
       "      <td>0.339545</td>\n",
       "      <td>0.255741</td>\n",
       "      <td>0.316641</td>\n",
       "    </tr>\n",
       "    <tr>\n",
       "      <th>white</th>\n",
       "      <td>0.129158</td>\n",
       "      <td>0.468789</td>\n",
       "      <td>0.151865</td>\n",
       "    </tr>\n",
       "  </tbody>\n",
       "</table>\n",
       "</div>"
      ],
      "text/plain": [
       "             stops      popl      past\n",
       "eth                                   \n",
       "black     0.531297  0.275469  0.531494\n",
       "hispanic  0.339545  0.255741  0.316641\n",
       "white     0.129158  0.468789  0.151865"
      ]
     },
     "execution_count": 18,
     "metadata": {},
     "output_type": "execute_result"
    }
   ],
   "source": [
    "eth_prop = eth_count.apply(lambda x: x/x.sum())\n",
    "eth_prop"
   ]
  },
  {
   "cell_type": "code",
   "execution_count": 19,
   "metadata": {},
   "outputs": [
    {
     "data": {
      "image/png": "[encoded data removed]",
      "text/plain": [
       "<Figure size 432x288 with 1 Axes>"
      ]
     },
     "metadata": {
      "needs_background": "light"
     },
     "output_type": "display_data"
    }
   ],
   "source": [
    "b_plot1 = eth_prop.plot.bar(rot=0, stacked=True)"
   ]
  },
  {
   "cell_type": "code",
   "execution_count": 20,
   "metadata": {},
   "outputs": [
    {
     "data": {
      "image/png": "[encoded data removed]",
      "text/plain": [
       "<Figure size 432x288 with 1 Axes>"
      ]
     },
     "metadata": {
      "needs_background": "light"
     },
     "output_type": "display_data"
    }
   ],
   "source": [
    "b_plot2 = eth_prop.T.plot.bar(rot=0, stacked=True)"
   ]
  },
  {
   "cell_type": "code",
   "execution_count": 21,
   "metadata": {},
   "outputs": [
    {
     "name": "stdout",
     "output_type": "stream",
     "text": [
      "0.013459761357059225 0.2769406088216727 0.018770698963234668 0.10516913201638943 0.003801946125210906 0.137792403733428\n"
     ]
    }
   ],
   "source": [
    "mod_black = smf.ols(formula=\"stops~popl+past-1\", data=frisk[frisk['eth'] == 1])\n",
    "black_popl = mod_black.fit().params[0]\n",
    "black_past = mod_black.fit().params[1]\n",
    "\n",
    "mod_hispanic = smf.ols(formula=\"stops~popl+past-1\", data=frisk[frisk['eth'] == 2])\n",
    "hisp_past = mod_hispanic.fit().params[0]\n",
    "hisp_popl = mod_hispanic.fit().params[1]\n",
    "\n",
    "mod_white = smf.ols(formula=\"stops~popl+past-1\", data=frisk[frisk['eth'] == 3])\n",
    "white_past = mod_white.fit().params[0]\n",
    "white_popl = mod_white.fit().params[1]\n",
    "\n",
    "print(black_popl, black_past, hisp_past, hisp_popl, white_past, white_popl)"
   ]
  },
  {
   "cell_type": "markdown",
   "metadata": {},
   "source": [
    "These results are the coefficients for the ethnic population and ethnic past crimes. They establish a relationship to the total number of stops and are fitted to pass through the origin."
   ]
  },
  {
   "cell_type": "code",
   "execution_count": 22,
   "metadata": {},
   "outputs": [
    {
     "name": "stdout",
     "output_type": "stream",
     "text": [
      "Intercept   -156.289946\n",
      "popl           0.006039\n",
      "past           0.265046\n",
      "black        492.745874\n",
      "hispanic     347.103798\n",
      "dtype: float64\n"
     ]
    }
   ],
   "source": [
    "frisk['black'] = frisk['eth'].apply(lambda x: 1 if x == 1 else 0)\n",
    "frisk['hispanic'] = frisk['eth'].apply(lambda x: 1 if x == 2 else 0)\n",
    "frisk['white'] = frisk['eth'].apply(lambda x: 1 if x == 3 else 0)\n",
    "mod = smf.ols(formula=\"stops~popl+past+black+hispanic\", data=frisk).fit().params\n",
    "print(mod)\n",
    "intercept = mod[0]\n",
    "slope_popl = mod[1]\n",
    "slope_past = mod[2]\n",
    "slope_black = mod[3]\n",
    "slope_hisp = mod[4]"
   ]
  },
  {
   "cell_type": "markdown",
   "metadata": {},
   "source": [
    "The coefficients in our regression tells us the general weighting of each of the given variables and how much it would result in stops. For example, the coefficient for population (0.006) shows us that there is very small increase on the number of stops as the population increases. On the other hand, it shows that there is a very high increase in stops as the number of the black or hispanic people increase."
   ]
  },
  {
   "cell_type": "code",
   "execution_count": 23,
   "metadata": {},
   "outputs": [],
   "source": [
    "func = lambda x: np.log(0.001 + x) if np.log(x) == 1 else np.log(x)\n",
    "frisk['logstops'] = frisk['stops'].apply(func)\n",
    "frisk['logpast'] = frisk['past'].apply(func)\n",
    "frisk['logpopl'] = frisk['popl'].apply(func)\n",
    "mod = smf.ols(formula=\"logstops~logpopl+logpast\", data=frisk).fit().params\n",
    "intercept = mod[0]\n",
    "slope_logpopl = mod[1]\n",
    "slope_logpast = mod[2]"
   ]
  },
  {
   "cell_type": "code",
   "execution_count": 24,
   "metadata": {},
   "outputs": [
    {
     "data": {
      "image/png": "[encoded data removed]",
      "text/plain": [
       "<Figure size 432x288 with 1 Axes>"
      ]
     },
     "metadata": {
      "needs_background": "light"
     },
     "output_type": "display_data"
    }
   ],
   "source": [
    "log_plot = frisk.plot(x='logpopl', y='logstops', kind='scatter', s=5)"
   ]
  },
  {
   "cell_type": "markdown",
   "metadata": {},
   "source": [
    "# Cross-validation"
   ]
  },
  {
   "cell_type": "code",
   "execution_count": 25,
   "metadata": {},
   "outputs": [],
   "source": [
    "params1, params2, params3, params4, params5 = [], [], [], [], []\n",
    "sse1, sse2, sse3, sse4, sse5 = [], [], [], [], []\n",
    "for i in range(15):\n",
    "    start, end = i * 15, (i + 1) * 15\n",
    "    test = frisk[start:end]\n",
    "    train = frisk.drop(test.index[:])\n",
    "\n",
    "    mod1 = smf.ols(formula=\"stops~popl\", data=train).fit()\n",
    "    sse1.append(sum((test['stops'] - mod1.predict(test)) ** 2))\n",
    "    params1.append(mod1.params)\n",
    "\n",
    "    mod2 = smf.ols(formula=\"stops~past\", data=train).fit()\n",
    "    sse2.append(sum((test['stops'] - mod2.predict(test)) ** 2))\n",
    "    params2.append(mod2.params)\n",
    "\n",
    "    mod3 = smf.ols(formula=\"stops~popl+past\", data=train).fit()\n",
    "    sse3.append(sum((test['stops'] - mod3.predict(test)) ** 2))\n",
    "    params3.append(mod3.params)\n",
    "\n",
    "    mod4 = smf.ols(formula=\"stops~popl+past+black+hispanic\", data=train).fit()\n",
    "    sse4.append(sum((test['stops'] - mod4.predict(test)) ** 2))\n",
    "    params4.append(mod4.params)\n",
    "\n",
    "    mod5 = smf.ols(formula=\"logstops~logpopl+logpast\", data=train).fit()\n",
    "    sse5.append(sum((test['stops'] - np.exp(mod5.predict(test))) ** 2))\n",
    "    params5.append(mod5.params)\n",
    "\n",
    "crossval1 = pd.DataFrame(params1)\n",
    "crossval1['SSE'] = sse1\n",
    "\n",
    "crossval2 = pd.DataFrame(params2)\n",
    "crossval2['SSE'] = sse2\n",
    "\n",
    "crossval3 = pd.DataFrame(params3)\n",
    "crossval3['SSE'] = sse3\n",
    "\n",
    "crossval4 = pd.DataFrame(params4)\n",
    "crossval4['SSE'] = sse4\n",
    "\n",
    "crossval5 = pd.DataFrame(params5)\n",
    "crossval5['SSE'] = sse5"
   ]
  },
  {
   "cell_type": "code",
   "execution_count": 26,
   "metadata": {},
   "outputs": [
    {
     "data": {
      "text/plain": [
       "<AxesSubplot:title={'center':'SSE'}, xlabel='[Model]'>"
      ]
     },
     "execution_count": 26,
     "metadata": {},
     "output_type": "execute_result"
    },
    {
     "data": {
      "image/png": "[encoded data removed]",
      "text/plain": [
       "<Figure size 432x288 with 1 Axes>"
      ]
     },
     "metadata": {
      "needs_background": "light"
     },
     "output_type": "display_data"
    }
   ],
   "source": [
    "model1 = crossval1.drop(columns=['Intercept', 'popl']).assign(Model=1)\n",
    "model2 = crossval2.drop(columns=['Intercept', 'past']).assign(Model=2)\n",
    "model3 = crossval3.drop(columns=['Intercept', 'popl', 'past']).assign(Model=3)\n",
    "model4 = crossval4.drop(columns=['Intercept', 'popl', 'past', 'black', 'hispanic']).assign(Model=4)\n",
    "model5 = crossval5.drop(columns=['Intercept', 'logpopl', 'logpast']).assign(Model=5)\n",
    "all_crossval = pd.concat([model1, model2, model3, model4, model5])\n",
    "all_crossval.boxplot(by='Model')"
   ]
  },
  {
   "cell_type": "markdown",
   "metadata": {},
   "source": [
    "From best predictive performance to lowest predictive performance, the model ordering is 4, 5, 2, 3, and 1. The main criterias I used to find the order was looking at the median, IQR, and accounting for outliers. Between 4 and 5, they appeared to have the lowest sse median but 4 had a tigher IQR and a lower outlier. This is why I picked 4 as the best predictor. I applied this method to the rest of the models. Model 1 has the least predictive performace because it has the highest median and the highest IQR. This basically shows that the sse values are going all over the place and unable to make an accurate prediction in stops."
   ]
  },
  {
   "cell_type": "code",
   "execution_count": 27,
   "metadata": {},
   "outputs": [
    {
     "data": {
      "text/html": [
       "<div>\n",
       "<style scoped>\n",
       "    .dataframe tbody tr th:only-of-type {\n",
       "        vertical-align: middle;\n",
       "    }\n",
       "\n",
       "    .dataframe tbody tr th {\n",
       "        vertical-align: top;\n",
       "    }\n",
       "\n",
       "    .dataframe thead th {\n",
       "        text-align: right;\n",
       "    }\n",
       "</style>\n",
       "<table border=\"1\" class=\"dataframe\">\n",
       "  <thead>\n",
       "    <tr style=\"text-align: right;\">\n",
       "      <th></th>\n",
       "      <th>black</th>\n",
       "      <th>hispanic</th>\n",
       "    </tr>\n",
       "  </thead>\n",
       "  <tbody>\n",
       "    <tr>\n",
       "      <th>count</th>\n",
       "      <td>15.000000</td>\n",
       "      <td>15.000000</td>\n",
       "    </tr>\n",
       "    <tr>\n",
       "      <th>mean</th>\n",
       "      <td>491.861998</td>\n",
       "      <td>346.578121</td>\n",
       "    </tr>\n",
       "    <tr>\n",
       "      <th>std</th>\n",
       "      <td>19.478170</td>\n",
       "      <td>16.489292</td>\n",
       "    </tr>\n",
       "    <tr>\n",
       "      <th>min</th>\n",
       "      <td>455.781902</td>\n",
       "      <td>318.326872</td>\n",
       "    </tr>\n",
       "    <tr>\n",
       "      <th>25%</th>\n",
       "      <td>482.218135</td>\n",
       "      <td>334.868262</td>\n",
       "    </tr>\n",
       "    <tr>\n",
       "      <th>50%</th>\n",
       "      <td>487.187266</td>\n",
       "      <td>341.238642</td>\n",
       "    </tr>\n",
       "    <tr>\n",
       "      <th>75%</th>\n",
       "      <td>507.122379</td>\n",
       "      <td>360.467200</td>\n",
       "    </tr>\n",
       "    <tr>\n",
       "      <th>max</th>\n",
       "      <td>525.430667</td>\n",
       "      <td>373.690442</td>\n",
       "    </tr>\n",
       "  </tbody>\n",
       "</table>\n",
       "</div>"
      ],
      "text/plain": [
       "            black    hispanic\n",
       "count   15.000000   15.000000\n",
       "mean   491.861998  346.578121\n",
       "std     19.478170   16.489292\n",
       "min    455.781902  318.326872\n",
       "25%    482.218135  334.868262\n",
       "50%    487.187266  341.238642\n",
       "75%    507.122379  360.467200\n",
       "max    525.430667  373.690442"
      ]
     },
     "execution_count": 27,
     "metadata": {},
     "output_type": "execute_result"
    },
    {
     "data": {
      "image/png": "[encoded data removed]",
      "text/plain": [
       "<Figure size 432x288 with 1 Axes>"
      ]
     },
     "metadata": {
      "needs_background": "light"
     },
     "output_type": "display_data"
    }
   ],
   "source": [
    "black_hispanic = crossval4.drop(columns=['Intercept', 'popl', 'past', 'SSE'])\n",
    "black_hispanic.boxplot(column=['black', 'hispanic'])\n",
    "black_hispanic.describe()"
   ]
  },
  {
   "cell_type": "markdown",
   "metadata": {},
   "source": [
    "From our given plots and description, it appears the estimates do vary across different folds. For the black ethnicity, there is an std of 19 while it is 16 for hispanic. This shows the amount of variance between the 15 folds. From the boxplot we can also see the IQR which gives us the general range of the coefficent estimates, which means that the estimates do vary across different folds."
   ]
  }
 ],
 "metadata": {
  "kernelspec": {
   "display_name": "Python 3",
   "language": "python",
   "name": "python3"
  },
  "language_info": {
   "codemirror_mode": {
    "name": "ipython",
    "version": 3
   },
   "file_extension": ".py",
   "mimetype": "text/x-python",
   "name": "python",
   "nbconvert_exporter": "python",
   "pygments_lexer": "ipython3",
   "version": "3.8.5"
  }
 },
 "nbformat": 4,
 "nbformat_minor": 4
}
